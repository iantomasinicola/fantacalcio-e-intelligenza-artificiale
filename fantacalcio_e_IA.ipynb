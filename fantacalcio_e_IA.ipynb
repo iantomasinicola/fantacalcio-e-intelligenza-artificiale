{
 "cells": [
  {
   "cell_type": "code",
   "execution_count": null,
   "id": "46e0361d-ddb6-4a32-b4b2-d5adfdbb53e3",
   "metadata": {},
   "outputs": [],
   "source": [
    "import pandas as pd\n",
    "import random\n",
    "from matplotlib import pyplot as plt\n"
   ]
  },
  {
   "cell_type": "code",
   "execution_count": null,
   "id": "312bdfd7-c507-4f5f-b75a-a143017cb57c",
   "metadata": {},
   "outputs": [],
   "source": [
    "all_players = pd.read_excel(r\"C:\\Users\\ianto\\Desktop\\Progetto_fantacalcio.xlsx\")\n",
    "all_players = all_players.query(\"valido==1\")"
   ]
  },
  {
   "cell_type": "code",
   "execution_count": null,
   "id": "9710c5e1-9301-4503-b386-4b5fb3f05180",
   "metadata": {},
   "outputs": [],
   "source": [
    "all_players.head(10)"
   ]
  },
  {
   "cell_type": "code",
   "execution_count": null,
   "id": "ec17f95e-bb94-44c4-a188-a3516348822c",
   "metadata": {},
   "outputs": [],
   "source": [
    "def new_player(vincolo, df, ruolo, idscelti):\n",
    "    if len(df.query(\"R == @ruolo and quotazione <= @vincolo and Id not in @idscelti\") ) > 0:\n",
    "        giocatore = df.query(\"R == @ruolo and quotazione <= @vincolo and Id not in @idscelti\").sample(1).values.tolist()[0]\n",
    "    else:\n",
    "        giocatore = None\n",
    "    return giocatore"
   ]
  },
  {
   "cell_type": "code",
   "execution_count": null,
   "id": "f0b44f92-2e02-458e-9996-3ec712082a8a",
   "metadata": {},
   "outputs": [],
   "source": [
    "def new_rosa(budget):\n",
    "    rosa = []\n",
    "    idscelti = []\n",
    "    giocatore = new_player(vincolo=budget,df=all_players, ruolo=\"P\", idscelti = idscelti)\n",
    "    rosa.append(giocatore)\n",
    "    budget  = budget-giocatore[4]\n",
    "    \n",
    "    giocatore = new_player(vincolo=budget,df=all_players, ruolo=\"D\", idscelti = idscelti)\n",
    "    rosa.append(giocatore)\n",
    "    idscelti.append(giocatore[0])\n",
    "    budget  = budget-giocatore[4]\n",
    "    \n",
    "    lista_ruoli = ['A','C','D']\n",
    "    giocatori_restanti = 9\n",
    "    for i in range(3):\n",
    "        for ruolo in lista_ruoli:\n",
    "            giocatore = new_player(vincolo=budget-giocatori_restanti+1, df=all_players, ruolo=ruolo, idscelti=idscelti)\n",
    "            rosa.append(giocatore)\n",
    "            idscelti.append(giocatore[0])\n",
    "            budget  = budget-giocatore[4]\n",
    "            giocatori_restanti -= 1\n",
    "\n",
    "    return rosa"
   ]
  },
  {
   "cell_type": "code",
   "execution_count": null,
   "id": "4a4e6c02-1d64-4a25-8210-c2f0ba8f0eb7",
   "metadata": {},
   "outputs": [],
   "source": [
    "def fm_rosa(rosa):\n",
    "    tot = 0\n",
    "    for i in range(len(rosa)):\n",
    "        tot += rosa[i][5]\n",
    "    return tot"
   ]
  },
  {
   "cell_type": "code",
   "execution_count": null,
   "id": "3b26622c-38de-4ff8-8010-44963abd4297",
   "metadata": {},
   "outputs": [],
   "source": [
    "def quotazione_rosa(rosa):\n",
    "    tot = 0\n",
    "    for i in range(len(rosa)):\n",
    "        tot += rosa[i][4]\n",
    "    return tot"
   ]
  },
  {
   "cell_type": "code",
   "execution_count": null,
   "id": "8b2f00b4-4b32-4d53-8eaa-2ac04ed24c00",
   "metadata": {},
   "outputs": [],
   "source": [
    "def crea_nuove_rose(numero, budget):\n",
    "    rose = []\n",
    "    for i in range(numero):\n",
    "        rosa = new_rosa(budget)\n",
    "        rose.append({\"rosa\":rosa,\"fm\":fm_rosa(rosa),\"quotazione\":quotazione_rosa(rosa)})\n",
    "    return rose"
   ]
  },
  {
   "cell_type": "code",
   "execution_count": null,
   "id": "3dc35aab-34f4-498b-ae26-2249fd1fc909",
   "metadata": {},
   "outputs": [],
   "source": [
    "def estrai_migliori_rose(rose, numero_rose_migliori):\n",
    "    rose_df = pd.DataFrame.from_dict(rose)\n",
    "    rose_df[\"Rank\"] = rose_df[\"fm\"].transform(lambda x: x.rank(method = 'first', ascending=False))\n",
    "    rose_df = rose_df.query(\"Rank <= @numero_rose_migliori\").sort_values(by=\"Rank\")[[\"rosa\",\"fm\",\"quotazione\"]]\n",
    "    rose_migliori = rose_df.to_dict(orient='records')\n",
    "    return rose_migliori"
   ]
  },
  {
   "cell_type": "code",
   "execution_count": null,
   "id": "46fed682-2220-4b91-8ebf-647af1d8667d",
   "metadata": {},
   "outputs": [],
   "source": [
    "def new_rosa_combinata(rosa1, rosa2, budget):\n",
    "    rosa_combinata = rosa1 + rosa2\n",
    "    id_combinati = []\n",
    "    for i in range(len(rosa_combinata)):\n",
    "        id_combinati.append(rosa_combinata[i][0])\n",
    "    id_combinati = list(set(id_combinati))\n",
    "    df_filter = all_players.query(\"Id in @id_combinati\")\n",
    "    \n",
    "    rosa = []\n",
    "    idscelti = []\n",
    "    giocatore = new_player(vincolo=budget,df=df_filter, ruolo=\"P\",idscelti = idscelti )\n",
    "    rosa.append(giocatore)\n",
    "    budget  = budget-giocatore[4]\n",
    "    \n",
    "    giocatore = new_player(vincolo=budget,df=df_filter, ruolo=\"D\",idscelti = idscelti )\n",
    "    rosa.append(giocatore)\n",
    "    idscelti.append(giocatore[0])\n",
    "    budget  = budget-giocatore[4]\n",
    "    \n",
    "    lista_ruoli = ['A','C','D']\n",
    "    giocatori_restanti = 9\n",
    "    for i in range(3):\n",
    "        for ruolo in lista_ruoli:\n",
    "            giocatore = new_player(vincolo=budget-giocatori_restanti+1, df=df_filter, ruolo=ruolo, idscelti=idscelti)\n",
    "            if giocatore is None:\n",
    "                giocatore = new_player(vincolo=budget-giocatori_restanti+1, df=all_players, ruolo=ruolo, idscelti=idscelti)\n",
    "            rosa.append(giocatore)\n",
    "            idscelti.append(giocatore[0])\n",
    "            budget  = budget-giocatore[4]\n",
    "            giocatori_restanti -= 1\n",
    "\n",
    "    return rosa"
   ]
  },
  {
   "cell_type": "code",
   "execution_count": null,
   "id": "0915d01e-68a7-4749-a78e-2f573f6acc53",
   "metadata": {},
   "outputs": [],
   "source": [
    "def main(budget, numero_generazioni = 100, numero_rose_per_generazione = 200):\n",
    "    best_fm = [0]\n",
    "    numero_rose_migliori = int(numero_rose_per_generazione/2)\n",
    "    numero_figli = int(numero_rose_per_generazione/4)\n",
    "    generazioni=[]\n",
    "\n",
    "    #creazione nuove rose random\n",
    "    rose = crea_nuove_rose(numero = numero_rose_per_generazione, budget = budget)\n",
    "    generazioni.append(rose)\n",
    "\n",
    "    for i in range(numero_generazioni):\n",
    "\n",
    "        #estrazione rose migliori dall'ultima generazione\n",
    "        rose_migliori = estrai_migliori_rose(rose=generazioni[i],numero_rose_migliori=numero_rose_migliori)\n",
    "\n",
    "        \n",
    "        for j in range(numero_figli):\n",
    "            k = random.randint(0, numero_rose_migliori-1)\n",
    "            l = random.randint(0, numero_rose_migliori-1)\n",
    "            if k==l and k!=0:\n",
    "                l=0\n",
    "            else:\n",
    "                l=1\n",
    "            rosa_combinata = new_rosa_combinata(rosa1 = rose_migliori[k][\"rosa\"], rosa2 = rose_migliori[l][\"rosa\"], budget = budget)\n",
    "            rose_migliori.append({\"rosa\":rosa_combinata,\"fm\":fm_rosa(rosa_combinata),\"quotazione\":quotazione_rosa(rosa_combinata)})\n",
    "        \n",
    "        rose = crea_nuove_rose(numero_rose_per_generazione-len(rose_migliori), budget = budget)\n",
    "        \n",
    "        generazioni.append(rose_migliori + rose)\n",
    "        best_fm.append(rose_migliori[0][\"fm\"])\n",
    "\n",
    "        if i % 10 == 0:\n",
    "            print(i)\n",
    "\n",
    "    return generazioni,best_fm"
   ]
  },
  {
   "cell_type": "code",
   "execution_count": null,
   "id": "da3855cd-4aa8-4d86-9564-2e797c2127fa",
   "metadata": {},
   "outputs": [],
   "source": [
    "generazioni,best_fm = main(budget=209,numero_generazioni=50, numero_rose_per_generazione = 400)"
   ]
  },
  {
   "cell_type": "code",
   "execution_count": null,
   "id": "7fbc6148-b875-48f4-b15a-8748cb7703a6",
   "metadata": {},
   "outputs": [],
   "source": [
    "generazioni[50][0]"
   ]
  },
  {
   "cell_type": "code",
   "execution_count": null,
   "id": "35bb80e1-4687-4c6b-b4dd-58b9d8cfceac",
   "metadata": {},
   "outputs": [],
   "source": [
    "plt.plot(best_fm)"
   ]
  },
  {
   "cell_type": "code",
   "execution_count": null,
   "id": "3b82e51a-cc32-44fb-9c44-40d4d7b8c5c2",
   "metadata": {},
   "outputs": [],
   "source": []
  }
 ],
 "metadata": {
  "kernelspec": {
   "display_name": "Python 3 (ipykernel)",
   "language": "python",
   "name": "python3"
  },
  "language_info": {
   "codemirror_mode": {
    "name": "ipython",
    "version": 3
   },
   "file_extension": ".py",
   "mimetype": "text/x-python",
   "name": "python",
   "nbconvert_exporter": "python",
   "pygments_lexer": "ipython3",
   "version": "3.11.3"
  }
 },
 "nbformat": 4,
 "nbformat_minor": 5
}
